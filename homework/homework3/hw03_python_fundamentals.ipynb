{
 "cells": [
  {
   "cell_type": "code",
   "execution_count": 1,
   "id": "1b83d57e-252c-433d-8bdc-8dad096c4287",
   "metadata": {},
   "outputs": [
    {
     "name": "stdout",
     "output_type": "stream",
     "text": [
      "Loop time: 0.0\n",
      "Vectorized time: 0.0\n",
      "Arrays equal? True\n"
     ]
    }
   ],
   "source": [
    "import numpy as np\n",
    "import time\n",
    "\n",
    "# Create array\n",
    "arr = np.arange(1, 10001)\n",
    "\n",
    "# Elementwise operation: square\n",
    "start = time.time()\n",
    "squared_loop = [x**2 for x in arr]  # loop\n",
    "end = time.time()\n",
    "print(\"Loop time:\", end - start)\n",
    "\n",
    "start = time.time()\n",
    "squared_vectorized = arr ** 2  # vectorized\n",
    "end = time.time()\n",
    "print(\"Vectorized time:\", end - start)\n",
    "\n",
    "# Verify equality\n",
    "print(\"Arrays equal?\", np.array_equal(squared_vectorized, squared_loop))\n"
   ]
  },
  {
   "cell_type": "code",
   "execution_count": 8,
   "id": "c1427da9-40ed-4192-b04b-c088149443bf",
   "metadata": {},
   "outputs": [
    {
     "name": "stdout",
     "output_type": "stream",
     "text": [
      "<class 'pandas.core.frame.DataFrame'>\n",
      "RangeIndex: 10 entries, 0 to 9\n",
      "Data columns (total 3 columns):\n",
      " #   Column    Non-Null Count  Dtype \n",
      "---  ------    --------------  ----- \n",
      " 0   category  10 non-null     object\n",
      " 1   value     10 non-null     int64 \n",
      " 2   date      10 non-null     object\n",
      "dtypes: int64(1), object(2)\n",
      "memory usage: 368.0+ bytes\n",
      "None\n",
      "  category  value        date\n",
      "0        A     10  2025-08-01\n",
      "1        B     15  2025-08-02\n",
      "2        A     12  2025-08-03\n",
      "3        B     18  2025-08-04\n",
      "4        C     25  2025-08-05\n",
      "           value\n",
      "count  10.000000\n",
      "mean   17.600000\n",
      "std     7.381659\n",
      "min    10.000000\n",
      "25%    12.250000\n",
      "50%    14.500000\n",
      "75%    23.250000\n",
      "max    30.000000\n",
      "<pandas.core.groupby.generic.DataFrameGroupBy object at 0x0000029403F19660>\n"
     ]
    }
   ],
   "source": [
    "import pandas as pd\n",
    "\n",
    "# Load CSV\n",
    "df = pd.read_csv(\"starter_data.csv\")\n",
    "\n",
    "# Inspect\n",
    "print(df.info())\n",
    "print(df.head())\n",
    "\n",
    "# Numeric summary\n",
    "summary_stats = df.describe()\n",
    "print(summary_stats)\n",
    "\n",
    "# Groupby aggregation (example: by 'Category' column)\n",
    "group_summary = df.groupby('category')\n",
    "print(group_summary)\n"
   ]
  },
  {
   "cell_type": "code",
   "execution_count": 12,
   "id": "818c6e2b-7a78-4898-9c8f-78075734a8a3",
   "metadata": {},
   "outputs": [],
   "source": [
    "\n",
    "# Save summary stats\n",
    "summary_stats.to_csv(\"processed_summary.csv\")\n",
    "summary_stats.to_json(\"processed_summary.json\")\n"
   ]
  },
  {
   "cell_type": "code",
   "execution_count": null,
   "id": "76dabd63-b111-40d4-bb08-9249fc80a250",
   "metadata": {},
   "outputs": [],
   "source": []
  }
 ],
 "metadata": {
  "kernelspec": {
   "display_name": "Python (ml-gpu)",
   "language": "python",
   "name": "ml-gpu"
  },
  "language_info": {
   "codemirror_mode": {
    "name": "ipython",
    "version": 3
   },
   "file_extension": ".py",
   "mimetype": "text/x-python",
   "name": "python",
   "nbconvert_exporter": "python",
   "pygments_lexer": "ipython3",
   "version": "3.10.18"
  }
 },
 "nbformat": 4,
 "nbformat_minor": 5
}
