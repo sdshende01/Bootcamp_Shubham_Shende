{
 "cells": [
  {
   "cell_type": "code",
   "execution_count": 6,
   "id": "a9323639-bb6d-45bc-a23f-8e26ae5b9369",
   "metadata": {},
   "outputs": [
    {
     "name": "stdout",
     "output_type": "stream",
     "text": [
      "File already exists at ../data/raw\\sample_data.csv. Skipping CSV creation to avoid overwrite.\n"
     ]
    }
   ],
   "source": [
    "import os\n",
    "import pandas as pd\n",
    "import numpy as np\n",
    "\n",
    "# Define folder paths relative to this notebook\n",
    "raw_dir = '../data/raw'\n",
    "processed_dir = '../data/processed'\n",
    "\n",
    "# Create folders if they don't exist\n",
    "os.makedirs(raw_dir, exist_ok=True)\n",
    "os.makedirs(processed_dir, exist_ok=True)\n",
    "\n",
    "# Define the sample data\n",
    "data = {\n",
    "    'age': [34, 45, 29, 50, 38, np.nan, 41],\n",
    "    'income': [55000, np.nan, 42000, 58000, np.nan, np.nan, 49000],\n",
    "    'score': [0.82, 0.91, np.nan, 0.76, 0.88, 0.65, 0.79],\n",
    "    'zipcode': ['90210', '10001', '60614', '94103', '73301', '12345', '94105'],\n",
    "    'city': ['Beverly', 'New York', 'Chicago', 'SF', 'Austin', 'Unknown', 'San Francisco'],\n",
    "    'extra_data': [np.nan, 42, np.nan, np.nan, np.nan, 5, np.nan]\n",
    "}\n",
    "\n",
    "# Create DataFrame\n",
    "df = pd.DataFrame(data)\n",
    "\n",
    "# Save to CSV in raw data folder\n",
    "csv_path = os.path.join(raw_dir, 'sample_data.csv')\n",
    "if not os.path.exists(csv_path):\n",
    "    df.to_csv(csv_path, index=False)\n",
    "    print(f'Sample dataset created and saved to {csv_path}')\n",
    "else:\n",
    "    print(f'File already exists at {csv_path}. Skipping CSV creation to avoid overwrite.')\n"
   ]
  },
  {
   "cell_type": "code",
   "execution_count": 10,
   "id": "b0322c2e-3b23-4fef-9a97-34784091a32b",
   "metadata": {},
   "outputs": [],
   "source": [
    "import pandas as pd\n",
    "from src import cleaning as cl"
   ]
  },
  {
   "cell_type": "code",
   "execution_count": 11,
   "id": "7cee99cd-abda-4bbd-995f-b69c8d94aa43",
   "metadata": {},
   "outputs": [
    {
     "data": {
      "text/html": [
       "<div>\n",
       "<style scoped>\n",
       "    .dataframe tbody tr th:only-of-type {\n",
       "        vertical-align: middle;\n",
       "    }\n",
       "\n",
       "    .dataframe tbody tr th {\n",
       "        vertical-align: top;\n",
       "    }\n",
       "\n",
       "    .dataframe thead th {\n",
       "        text-align: right;\n",
       "    }\n",
       "</style>\n",
       "<table border=\"1\" class=\"dataframe\">\n",
       "  <thead>\n",
       "    <tr style=\"text-align: right;\">\n",
       "      <th></th>\n",
       "      <th>age</th>\n",
       "      <th>income</th>\n",
       "      <th>score</th>\n",
       "      <th>zipcode</th>\n",
       "      <th>city</th>\n",
       "      <th>extra_data</th>\n",
       "    </tr>\n",
       "  </thead>\n",
       "  <tbody>\n",
       "    <tr>\n",
       "      <th>0</th>\n",
       "      <td>34.0</td>\n",
       "      <td>55000.0</td>\n",
       "      <td>0.82</td>\n",
       "      <td>90210</td>\n",
       "      <td>Beverly</td>\n",
       "      <td>NaN</td>\n",
       "    </tr>\n",
       "    <tr>\n",
       "      <th>1</th>\n",
       "      <td>45.0</td>\n",
       "      <td>NaN</td>\n",
       "      <td>0.91</td>\n",
       "      <td>10001</td>\n",
       "      <td>New York</td>\n",
       "      <td>42.0</td>\n",
       "    </tr>\n",
       "    <tr>\n",
       "      <th>2</th>\n",
       "      <td>29.0</td>\n",
       "      <td>42000.0</td>\n",
       "      <td>NaN</td>\n",
       "      <td>60614</td>\n",
       "      <td>Chicago</td>\n",
       "      <td>NaN</td>\n",
       "    </tr>\n",
       "    <tr>\n",
       "      <th>3</th>\n",
       "      <td>50.0</td>\n",
       "      <td>58000.0</td>\n",
       "      <td>0.76</td>\n",
       "      <td>94103</td>\n",
       "      <td>SF</td>\n",
       "      <td>NaN</td>\n",
       "    </tr>\n",
       "    <tr>\n",
       "      <th>4</th>\n",
       "      <td>38.0</td>\n",
       "      <td>NaN</td>\n",
       "      <td>0.88</td>\n",
       "      <td>73301</td>\n",
       "      <td>Austin</td>\n",
       "      <td>NaN</td>\n",
       "    </tr>\n",
       "  </tbody>\n",
       "</table>\n",
       "</div>"
      ],
      "text/plain": [
       "    age   income  score  zipcode      city  extra_data\n",
       "0  34.0  55000.0   0.82    90210   Beverly         NaN\n",
       "1  45.0      NaN   0.91    10001  New York        42.0\n",
       "2  29.0  42000.0    NaN    60614   Chicago         NaN\n",
       "3  50.0  58000.0   0.76    94103        SF         NaN\n",
       "4  38.0      NaN   0.88    73301    Austin         NaN"
      ]
     },
     "execution_count": 11,
     "metadata": {},
     "output_type": "execute_result"
    }
   ],
   "source": [
    "df = pd.read_csv('../data/raw/sample_data.csv')\n",
    "df.head()"
   ]
  },
  {
   "cell_type": "code",
   "execution_count": 13,
   "id": "e5138f39-8db2-47ad-a21f-badbd4dcc835",
   "metadata": {},
   "outputs": [
    {
     "name": "stdout",
     "output_type": "stream",
     "text": [
      "Filled Missing:\n",
      "     age   income  score  zipcode           city  extra_data\n",
      "0  34.0  55000.0  0.820    90210        Beverly        23.5\n",
      "1  45.0  52000.0  0.910    10001       New York        42.0\n",
      "2  29.0  42000.0  0.805    60614        Chicago        23.5\n",
      "3  50.0  58000.0  0.760    94103             SF        23.5\n",
      "4  38.0  52000.0  0.880    73301         Austin        23.5\n",
      "5  39.5  52000.0  0.650    12345        Unknown         5.0\n",
      "6  41.0  49000.0  0.790    94105  San Francisco        23.5\n",
      "Dropped Missing:\n",
      "     age  score  zipcode           city\n",
      "0  34.0   0.82    90210        Beverly\n",
      "1  45.0   0.91    10001       New York\n",
      "3  50.0   0.76    94103             SF\n",
      "4  38.0   0.88    73301         Austin\n",
      "6  41.0   0.79    94105  San Francisco\n",
      "Normalized:\n",
      "         age  income     score   zipcode           city  extra_data\n",
      "0  0.238095  0.8125  0.653846  0.953688        Beverly         0.5\n",
      "1  0.761905  0.6250  1.000000  0.000000       New York         1.0\n",
      "2  0.000000  0.0000  0.596154  0.601791        Chicago         0.5\n",
      "3  1.000000  1.0000  0.423077  0.999976             SF         0.5\n",
      "4  0.428571  0.6250  0.884615  0.752640         Austin         0.5\n",
      "5  0.500000  0.6250  0.000000  0.027870        Unknown         0.0\n",
      "6  0.571429  0.4375  0.538462  1.000000  San Francisco         0.5\n"
     ]
    },
    {
     "name": "stderr",
     "output_type": "stream",
     "text": [
      "C:\\Users\\mydel\\Desktop\\Boorcamp_Shubham_Shende\\homework\\homework06\\src\\cleaning.py:13: FutureWarning: A value is trying to be set on a copy of a DataFrame or Series through chained assignment using an inplace method.\n",
      "The behavior will change in pandas 3.0. This inplace method will never work because the intermediate object on which we are setting values always behaves as a copy.\n",
      "\n",
      "For example, when doing 'df[col].method(value, inplace=True)', try using 'df.method({col: value}, inplace=True)' or df[col] = df[col].method(value) instead, to perform the operation inplace on the original object.\n",
      "\n",
      "\n",
      "  df_copy[col].fillna(median_val, inplace=True)\n",
      "C:\\Users\\mydel\\Desktop\\Boorcamp_Shubham_Shende\\homework\\homework06\\src\\cleaning.py:13: FutureWarning: A value is trying to be set on a copy of a DataFrame or Series through chained assignment using an inplace method.\n",
      "The behavior will change in pandas 3.0. This inplace method will never work because the intermediate object on which we are setting values always behaves as a copy.\n",
      "\n",
      "For example, when doing 'df[col].method(value, inplace=True)', try using 'df.method({col: value}, inplace=True)' or df[col] = df[col].method(value) instead, to perform the operation inplace on the original object.\n",
      "\n",
      "\n",
      "  df_copy[col].fillna(median_val, inplace=True)\n",
      "C:\\Users\\mydel\\Desktop\\Boorcamp_Shubham_Shende\\homework\\homework06\\src\\cleaning.py:13: FutureWarning: A value is trying to be set on a copy of a DataFrame or Series through chained assignment using an inplace method.\n",
      "The behavior will change in pandas 3.0. This inplace method will never work because the intermediate object on which we are setting values always behaves as a copy.\n",
      "\n",
      "For example, when doing 'df[col].method(value, inplace=True)', try using 'df.method({col: value}, inplace=True)' or df[col] = df[col].method(value) instead, to perform the operation inplace on the original object.\n",
      "\n",
      "\n",
      "  df_copy[col].fillna(median_val, inplace=True)\n",
      "C:\\Users\\mydel\\Desktop\\Boorcamp_Shubham_Shende\\homework\\homework06\\src\\cleaning.py:13: FutureWarning: A value is trying to be set on a copy of a DataFrame or Series through chained assignment using an inplace method.\n",
      "The behavior will change in pandas 3.0. This inplace method will never work because the intermediate object on which we are setting values always behaves as a copy.\n",
      "\n",
      "For example, when doing 'df[col].method(value, inplace=True)', try using 'df.method({col: value}, inplace=True)' or df[col] = df[col].method(value) instead, to perform the operation inplace on the original object.\n",
      "\n",
      "\n",
      "  df_copy[col].fillna(median_val, inplace=True)\n",
      "C:\\Users\\mydel\\Desktop\\Boorcamp_Shubham_Shende\\homework\\homework06\\src\\cleaning.py:13: FutureWarning: A value is trying to be set on a copy of a DataFrame or Series through chained assignment using an inplace method.\n",
      "The behavior will change in pandas 3.0. This inplace method will never work because the intermediate object on which we are setting values always behaves as a copy.\n",
      "\n",
      "For example, when doing 'df[col].method(value, inplace=True)', try using 'df.method({col: value}, inplace=True)' or df[col] = df[col].method(value) instead, to perform the operation inplace on the original object.\n",
      "\n",
      "\n",
      "  df_copy[col].fillna(median_val, inplace=True)\n"
     ]
    }
   ],
   "source": [
    "df1 = cl.fill_missing_median(df)\n",
    "print(\"Filled Missing:\\n\", df1)\n",
    "\n",
    "\n",
    "df2 = cl.drop_missing(df, thresh=0.3)\n",
    "print(\"Dropped Missing:\\n\", df2)\n",
    "\n",
    "df3 = cl.normalize_data(df1)\n",
    "print(\"Normalized:\\n\", df3)"
   ]
  },
  {
   "cell_type": "code",
   "execution_count": 14,
   "id": "c3d66bdb-f707-4900-991e-97c8629b0961",
   "metadata": {},
   "outputs": [],
   "source": [
    "df.to_csv('../data/processed/sample_data_cleaned.csv', index=False)"
   ]
  },
  {
   "cell_type": "code",
   "execution_count": null,
   "id": "b3451624-2bb4-435b-b6ba-bbcb9a0d0075",
   "metadata": {},
   "outputs": [],
   "source": []
  }
 ],
 "metadata": {
  "kernelspec": {
   "display_name": "Python (ml-gpu)",
   "language": "python",
   "name": "ml-gpu"
  },
  "language_info": {
   "codemirror_mode": {
    "name": "ipython",
    "version": 3
   },
   "file_extension": ".py",
   "mimetype": "text/x-python",
   "name": "python",
   "nbconvert_exporter": "python",
   "pygments_lexer": "ipython3",
   "version": "3.10.18"
  }
 },
 "nbformat": 4,
 "nbformat_minor": 5
}
