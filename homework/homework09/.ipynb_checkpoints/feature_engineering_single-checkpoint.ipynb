{
 "cells": [
  {
   "cell_type": "markdown",
   "id": "d2212a96",
   "metadata": {},
   "source": [
    "# Feature Engineering — Team Single\n"
   ]
  },
  {
   "cell_type": "markdown",
   "id": "c0fa4d42",
   "metadata": {},
   "source": [
    "In this notebook, we perform feature engineering on our project dataset to create new variables that may better capture relationships and improve modeling.\n",
    "\n",
    "We use the synthetic dataset (`starter_data.csv`) prepared earlier."
   ]
  },
  {
   "cell_type": "code",
   "execution_count": null,
   "id": "8f35ff0e",
   "metadata": {},
   "outputs": [],
   "source": [
    "import pandas as pd\n",
    "\n",
    "df = pd.read_csv('../data/starter_data.csv')\n",
    "df.head()"
   ]
  },
  {
   "cell_type": "markdown",
   "id": "5086cee7",
   "metadata": {},
   "source": [
    "## Feature 1: Value-to-Amount Ratio\n",
    "- **Rationale**: Captures proportionality between `Value` and `Amount`. Helps compare scale differences.\n"
   ]
  },
  {
   "cell_type": "code",
   "execution_count": null,
   "id": "35feaf41",
   "metadata": {},
   "outputs": [],
   "source": [
    "df['value_amount_ratio'] = df['Value'] / df['Amount']\n",
    "df[['Value', 'Amount', 'value_amount_ratio']].head()"
   ]
  },
  {
   "cell_type": "markdown",
   "id": "8a446af2",
   "metadata": {},
   "source": [
    "## Feature 2: Rolling Mean of Value (3 periods)\n",
    "- **Rationale**: Smooths short-term noise and captures local trend in `Value` over time.\n"
   ]
  },
  {
   "cell_type": "code",
   "execution_count": null,
   "id": "5f14d800",
   "metadata": {},
   "outputs": [],
   "source": [
    "df['value_roll3'] = df['Value'].rolling(window=3).mean()\n",
    "df[['Date', 'Value', 'value_roll3']].head(10)"
   ]
  },
  {
   "cell_type": "markdown",
   "id": "e43835fb",
   "metadata": {},
   "source": [
    "## Feature 3: Lag Feature of Value (1 period)\n",
    "- **Rationale**: Captures momentum effect by including last-period `Value` as predictor.\n"
   ]
  },
  {
   "cell_type": "code",
   "execution_count": null,
   "id": "2a7dde44",
   "metadata": {},
   "outputs": [],
   "source": [
    "df['value_lag1'] = df['Value'].shift(1)\n",
    "df[['Date', 'Value', 'value_lag1']].head(10)"
   ]
  },
  {
   "cell_type": "markdown",
   "id": "15c480a8",
   "metadata": {},
   "source": [
    "## Save Engineered Dataset"
   ]
  },
  {
   "cell_type": "code",
   "execution_count": null,
   "id": "bd578bf7",
   "metadata": {},
   "outputs": [],
   "source": [
    "df.to_csv('../data/processed/feature_engineered.csv', index=False)\n",
    "print('Saved to data/processed/feature_engineered.csv')"
   ]
  }
 ],
 "metadata": {},
 "nbformat": 4,
 "nbformat_minor": 5
}
