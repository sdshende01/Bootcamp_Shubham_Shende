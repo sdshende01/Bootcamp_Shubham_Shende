{
 "cells": [
  {
   "cell_type": "markdown",
   "id": "f77a4965-5b80-49c1-a7ef-687066491625",
   "metadata": {},
   "source": [
    "# Stage 04: Data Acquisition & Ingestion"
   ]
  },
  {
   "cell_type": "code",
   "execution_count": 17,
   "id": "8b79e174-619c-4d8b-89b2-f82fb3345f9d",
   "metadata": {},
   "outputs": [],
   "source": [
    "import requests\n",
    "import pandas as pd\n",
    "import matplotlib.pyplot as plt\n",
    "from pathlib import Path\n",
    "\n",
    "# Paths\n",
    "RAW_DIR = Path(\"../data/raw\")\n",
    "RAW_DIR.mkdir(parents=True, exist_ok=True)\n",
    "\n",
    "# API endpoints\n",
    "ICICI_URL = \"https://api.mfapi.in/mf/100350\"\n",
    "NIFTY50_URL = \"https://api.mfapi.in/mf/101325\"\n",
    "\n",
    "# Fetch Data\n",
    "\n",
    "def fetch_nav(api_url: str, scheme_name: str) -> pd.DataFrame:\n",
    "    \"\"\"Fetch NAV data from mfapi.in and return as DataFrame.\"\"\"\n",
    "    r = requests.get(api_url)\n",
    "    r.raise_for_status()\n",
    "    data = r.json()\n",
    "    navs = pd.DataFrame(data[\"data\"])\n",
    "    navs[\"date\"] = pd.to_datetime(navs[\"date\"], format=\"%d-%m-%Y\")\n",
    "    navs[\"nav\"] = navs[\"nav\"].astype(float)\n",
    "    navs = navs.rename(columns={\"nav\": scheme_name})\n",
    "    return navs[[\"date\", scheme_name]]\n",
    "\n",
    "# Fetch both series\n",
    "icici_df = fetch_nav(ICICI_URL, \"ICICI_LargeMidcap\")\n",
    "nifty_df = fetch_nav(NIFTY50_URL, \"Nifty50_BeES\")\n",
    "\n",
    "\n",
    "# Merge \n",
    "df = pd.merge(icici_df, nifty_df, on=\"date\", how=\"inner\").sort_values(\"date\")"
   ]
  },
  {
   "cell_type": "markdown",
   "id": "b4698906-3a62-4104-b000-93d3e8e898e0",
   "metadata": {},
   "source": [
    "# Stage 05: Data Storage"
   ]
  },
  {
   "cell_type": "code",
   "execution_count": 18,
   "id": "23b4afe7-38b6-46af-9415-c81da96b7f01",
   "metadata": {},
   "outputs": [
    {
     "name": "stdout",
     "output_type": "stream",
     "text": [
      "Data saved to: ..\\data\\raw\\icici_large_midcap_vs_nifty50.csv\n"
     ]
    },
    {
     "data": {
      "text/html": [
       "<div>\n",
       "<style scoped>\n",
       "    .dataframe tbody tr th:only-of-type {\n",
       "        vertical-align: middle;\n",
       "    }\n",
       "\n",
       "    .dataframe tbody tr th {\n",
       "        vertical-align: top;\n",
       "    }\n",
       "\n",
       "    .dataframe thead th {\n",
       "        text-align: right;\n",
       "    }\n",
       "</style>\n",
       "<table border=\"1\" class=\"dataframe\">\n",
       "  <thead>\n",
       "    <tr style=\"text-align: right;\">\n",
       "      <th></th>\n",
       "      <th>date</th>\n",
       "      <th>ICICI_LargeMidcap</th>\n",
       "      <th>Nifty50_BeES</th>\n",
       "    </tr>\n",
       "  </thead>\n",
       "  <tbody>\n",
       "    <tr>\n",
       "      <th>1273</th>\n",
       "      <td>2006-06-19</td>\n",
       "      <td>9.21</td>\n",
       "      <td>296.1205</td>\n",
       "    </tr>\n",
       "    <tr>\n",
       "      <th>1272</th>\n",
       "      <td>2006-06-20</td>\n",
       "      <td>9.07</td>\n",
       "      <td>290.4970</td>\n",
       "    </tr>\n",
       "    <tr>\n",
       "      <th>1271</th>\n",
       "      <td>2006-06-21</td>\n",
       "      <td>9.26</td>\n",
       "      <td>296.7886</td>\n",
       "    </tr>\n",
       "    <tr>\n",
       "      <th>1270</th>\n",
       "      <td>2006-06-22</td>\n",
       "      <td>9.48</td>\n",
       "      <td>304.0115</td>\n",
       "    </tr>\n",
       "    <tr>\n",
       "      <th>1269</th>\n",
       "      <td>2006-06-23</td>\n",
       "      <td>9.52</td>\n",
       "      <td>308.9646</td>\n",
       "    </tr>\n",
       "  </tbody>\n",
       "</table>\n",
       "</div>"
      ],
      "text/plain": [
       "           date  ICICI_LargeMidcap  Nifty50_BeES\n",
       "1273 2006-06-19               9.21      296.1205\n",
       "1272 2006-06-20               9.07      290.4970\n",
       "1271 2006-06-21               9.26      296.7886\n",
       "1270 2006-06-22               9.48      304.0115\n",
       "1269 2006-06-23               9.52      308.9646"
      ]
     },
     "metadata": {},
     "output_type": "display_data"
    }
   ],
   "source": [
    "# Save\n",
    "\n",
    "df.to_csv(RAW_DIR / \"icici_large_midcap_vs_nifty50.csv\", index=False)\n",
    "\n",
    "print(\"Data saved to:\", RAW_DIR / \"icici_large_midcap_vs_nifty50.csv\")\n",
    "display(df.head())"
   ]
  },
  {
   "cell_type": "markdown",
   "id": "78c1229b-193b-434b-9854-d4d812a3a8a8",
   "metadata": {},
   "source": [
    "# Stage06: Data Preprocessing"
   ]
  },
  {
   "cell_type": "code",
   "execution_count": 19,
   "id": "2bd9b130-3afc-4b18-a086-1c6226ad0e6e",
   "metadata": {},
   "outputs": [
    {
     "name": "stdout",
     "output_type": "stream",
     "text": [
      "Raw data shape: (1274, 3)\n"
     ]
    },
    {
     "data": {
      "text/html": [
       "<div>\n",
       "<style scoped>\n",
       "    .dataframe tbody tr th:only-of-type {\n",
       "        vertical-align: middle;\n",
       "    }\n",
       "\n",
       "    .dataframe tbody tr th {\n",
       "        vertical-align: top;\n",
       "    }\n",
       "\n",
       "    .dataframe thead th {\n",
       "        text-align: right;\n",
       "    }\n",
       "</style>\n",
       "<table border=\"1\" class=\"dataframe\">\n",
       "  <thead>\n",
       "    <tr style=\"text-align: right;\">\n",
       "      <th></th>\n",
       "      <th>date</th>\n",
       "      <th>ICICI_LargeMidcap</th>\n",
       "      <th>Nifty50_BeES</th>\n",
       "    </tr>\n",
       "  </thead>\n",
       "  <tbody>\n",
       "    <tr>\n",
       "      <th>0</th>\n",
       "      <td>2006-06-19</td>\n",
       "      <td>9.21</td>\n",
       "      <td>296.1205</td>\n",
       "    </tr>\n",
       "    <tr>\n",
       "      <th>1</th>\n",
       "      <td>2006-06-20</td>\n",
       "      <td>9.07</td>\n",
       "      <td>290.4970</td>\n",
       "    </tr>\n",
       "    <tr>\n",
       "      <th>2</th>\n",
       "      <td>2006-06-21</td>\n",
       "      <td>9.26</td>\n",
       "      <td>296.7886</td>\n",
       "    </tr>\n",
       "    <tr>\n",
       "      <th>3</th>\n",
       "      <td>2006-06-22</td>\n",
       "      <td>9.48</td>\n",
       "      <td>304.0115</td>\n",
       "    </tr>\n",
       "    <tr>\n",
       "      <th>4</th>\n",
       "      <td>2006-06-23</td>\n",
       "      <td>9.52</td>\n",
       "      <td>308.9646</td>\n",
       "    </tr>\n",
       "  </tbody>\n",
       "</table>\n",
       "</div>"
      ],
      "text/plain": [
       "         date  ICICI_LargeMidcap  Nifty50_BeES\n",
       "0  2006-06-19               9.21      296.1205\n",
       "1  2006-06-20               9.07      290.4970\n",
       "2  2006-06-21               9.26      296.7886\n",
       "3  2006-06-22               9.48      304.0115\n",
       "4  2006-06-23               9.52      308.9646"
      ]
     },
     "metadata": {},
     "output_type": "display_data"
    },
    {
     "name": "stdout",
     "output_type": "stream",
     "text": [
      "Cleaned data shape: (1273, 5)\n"
     ]
    },
    {
     "name": "stderr",
     "output_type": "stream",
     "text": [
      "C:\\Users\\mydel\\Desktop\\Boorcamp_Shubham_Shende\\projects\\src\\cleaning.py:37: FutureWarning: Series.fillna with 'method' is deprecated and will raise in a future version. Use obj.ffill() or obj.bfill() instead.\n",
      "  df[fund_col] = df[fund_col].fillna(method=\"ffill\", limit=3)\n",
      "C:\\Users\\mydel\\Desktop\\Boorcamp_Shubham_Shende\\projects\\src\\cleaning.py:38: FutureWarning: Series.fillna with 'method' is deprecated and will raise in a future version. Use obj.ffill() or obj.bfill() instead.\n",
      "  df[bench_col] = df[bench_col].fillna(method=\"ffill\", limit=3)\n"
     ]
    },
    {
     "data": {
      "text/html": [
       "<div>\n",
       "<style scoped>\n",
       "    .dataframe tbody tr th:only-of-type {\n",
       "        vertical-align: middle;\n",
       "    }\n",
       "\n",
       "    .dataframe tbody tr th {\n",
       "        vertical-align: top;\n",
       "    }\n",
       "\n",
       "    .dataframe thead th {\n",
       "        text-align: right;\n",
       "    }\n",
       "</style>\n",
       "<table border=\"1\" class=\"dataframe\">\n",
       "  <thead>\n",
       "    <tr style=\"text-align: right;\">\n",
       "      <th></th>\n",
       "      <th>date</th>\n",
       "      <th>ICICI_LargeMidcap</th>\n",
       "      <th>Nifty50_BeES</th>\n",
       "      <th>fund_ret</th>\n",
       "      <th>bench_ret</th>\n",
       "    </tr>\n",
       "  </thead>\n",
       "  <tbody>\n",
       "    <tr>\n",
       "      <th>0</th>\n",
       "      <td>2006-06-20</td>\n",
       "      <td>9.07</td>\n",
       "      <td>290.4970</td>\n",
       "      <td>-0.015201</td>\n",
       "      <td>-0.018991</td>\n",
       "    </tr>\n",
       "    <tr>\n",
       "      <th>1</th>\n",
       "      <td>2006-06-21</td>\n",
       "      <td>9.26</td>\n",
       "      <td>296.7886</td>\n",
       "      <td>0.020948</td>\n",
       "      <td>0.021658</td>\n",
       "    </tr>\n",
       "    <tr>\n",
       "      <th>2</th>\n",
       "      <td>2006-06-22</td>\n",
       "      <td>9.48</td>\n",
       "      <td>304.0115</td>\n",
       "      <td>0.023758</td>\n",
       "      <td>0.024337</td>\n",
       "    </tr>\n",
       "    <tr>\n",
       "      <th>3</th>\n",
       "      <td>2006-06-23</td>\n",
       "      <td>9.52</td>\n",
       "      <td>308.9646</td>\n",
       "      <td>0.004219</td>\n",
       "      <td>0.016292</td>\n",
       "    </tr>\n",
       "    <tr>\n",
       "      <th>4</th>\n",
       "      <td>2006-06-26</td>\n",
       "      <td>9.15</td>\n",
       "      <td>298.8128</td>\n",
       "      <td>-0.038866</td>\n",
       "      <td>-0.032857</td>\n",
       "    </tr>\n",
       "  </tbody>\n",
       "</table>\n",
       "</div>"
      ],
      "text/plain": [
       "        date  ICICI_LargeMidcap  Nifty50_BeES  fund_ret  bench_ret\n",
       "0 2006-06-20               9.07      290.4970 -0.015201  -0.018991\n",
       "1 2006-06-21               9.26      296.7886  0.020948   0.021658\n",
       "2 2006-06-22               9.48      304.0115  0.023758   0.024337\n",
       "3 2006-06-23               9.52      308.9646  0.004219   0.016292\n",
       "4 2006-06-26               9.15      298.8128 -0.038866  -0.032857"
      ]
     },
     "metadata": {},
     "output_type": "display_data"
    },
    {
     "name": "stdout",
     "output_type": "stream",
     "text": [
      "Saved cleaned dataset to: ..\\data\\processed\\icici_cleaned.csv\n"
     ]
    }
   ],
   "source": [
    "import sys\n",
    "from pathlib import Path\n",
    "\n",
    "PROJECT_ROOT = Path.cwd().parent\n",
    "sys.path.append(str(PROJECT_ROOT))\n",
    "                     \n",
    "import pandas as pd\n",
    "from pathlib import Path\n",
    "import matplotlib.pyplot as plt\n",
    "from src.cleaning import clean_nav_data\n",
    "\n",
    "RAW_DIR = Path(\"../data/raw\")\n",
    "PROC_DIR = Path(\"../data/processed\")\n",
    "PROC_DIR.mkdir(parents=True, exist_ok=True)\n",
    "\n",
    "# Load raw merged dataset\n",
    "raw_path = RAW_DIR / \"icici_large_midcap_vs_nifty50.csv\"\n",
    "df_raw = pd.read_csv(raw_path)\n",
    "\n",
    "print(\"Raw data shape:\", df_raw.shape)\n",
    "display(df_raw.head())\n",
    "\n",
    "# Apply cleaning\n",
    "df_clean = clean_nav_data(df_raw)\n",
    "\n",
    "print(\"Cleaned data shape:\", df_clean.shape)\n",
    "display(df_clean.head())\n",
    "\n",
    "# Save preprocessed dataset\n",
    "proc_path = PROC_DIR / \"icici_cleaned.csv\"\n",
    "df_clean.to_csv(proc_path, index=False)\n",
    "print(\"Saved cleaned dataset to:\", proc_path)"
   ]
  },
  {
   "cell_type": "markdown",
   "id": "e49dd237-af01-4dd7-892a-6f4764c36c3f",
   "metadata": {},
   "source": [
    "# Stage 07: Outlier Analysis"
   ]
  },
  {
   "cell_type": "code",
   "execution_count": 20,
   "id": "881e4ad8-9b04-4fd7-9e33-0d31118db687",
   "metadata": {},
   "outputs": [
    {
     "name": "stdout",
     "output_type": "stream",
     "text": [
      "Outliers (Z-score): 28\n",
      "Outliers (IQR): 72\n"
     ]
    },
    {
     "data": {
      "image/png": "[encoded data removed]",
      "text/plain": [
       "<Figure size 1200x400 with 2 Axes>"
      ]
     },
     "metadata": {},
     "output_type": "display_data"
    },
    {
     "name": "stdout",
     "output_type": "stream",
     "text": [
      "             Raw  Winsorized\n",
      "Mean    0.000599    0.000601\n",
      "StdDev  0.015551    0.015538\n"
     ]
    }
   ],
   "source": [
    "\n",
    "import sys\n",
    "from pathlib import Path\n",
    "import pandas as pd\n",
    "import matplotlib.pyplot as plt\n",
    "\n",
    "# Fix path for local imports\n",
    "PROJECT_ROOT = Path.cwd().parent\n",
    "sys.path.append(str(PROJECT_ROOT))\n",
    "\n",
    "from src.cleaning import clean_nav_data\n",
    "from src.outliers import detect_outliers_zscore, detect_outliers_iqr, winsorize_series\n",
    "\n",
    "# Load cleaned data\n",
    "df = pd.read_csv(\"../data/processed/icici_cleaned.csv\", parse_dates=[\"date\"])\n",
    "\n",
    "# --- Detect outliers in fund returns ---\n",
    "outliers_z = detect_outliers_zscore(df[\"fund_ret\"], threshold=3)\n",
    "outliers_iqr = detect_outliers_iqr(df[\"fund_ret\"])\n",
    "\n",
    "print(\"Outliers (Z-score):\", outliers_z.sum())\n",
    "print(\"Outliers (IQR):\", outliers_iqr.sum())\n",
    "\n",
    "# --- Compare distributions ---\n",
    "plt.figure(figsize=(12,4))\n",
    "plt.subplot(1,2,1)\n",
    "df[\"fund_ret\"].plot(kind=\"hist\", bins=50, alpha=0.7, title=\"Fund Returns (Raw)\")\n",
    "\n",
    "plt.subplot(1,2,2)\n",
    "winsorized = winsorize_series(df[\"fund_ret\"])\n",
    "winsorized.plot(kind=\"hist\", bins=50, alpha=0.7, title=\"Fund Returns (Winsorized)\")\n",
    "plt.show()\n",
    "\n",
    "# --- Sensitivity Analysis (mean/std) ---\n",
    "summary = pd.DataFrame({\n",
    "    \"Raw\": [df[\"fund_ret\"].mean(), df[\"fund_ret\"].std()],\n",
    "    \"Winsorized\": [winsorized.mean(), winsorized.std()]\n",
    "}, index=[\"Mean\", \"StdDev\"])\n",
    "\n",
    "print(summary)\n"
   ]
  },
  {
   "cell_type": "markdown",
   "id": "1b2b45be-110e-48ab-8f64-f81b62c2d4cc",
   "metadata": {},
   "source": [
    "# Stage 08: Exploratory Data Analysis (EDA)"
   ]
  },
  {
   "cell_type": "code",
   "execution_count": 21,
   "id": "fc122329-1c6f-4698-8e5f-ccdc4d8c790a",
   "metadata": {},
   "outputs": [
    {
     "name": "stdout",
     "output_type": "stream",
     "text": [
      "Dataset Shape: (1273, 5)\n",
      "\n",
      "Missing Values:\n",
      " date                 0\n",
      "ICICI_LargeMidcap    0\n",
      "Nifty50_BeES         0\n",
      "fund_ret             0\n",
      "bench_ret            0\n",
      "dtype: int64\n",
      "\n",
      "Descriptive Stats:\n",
      "                                 date  ICICI_LargeMidcap  Nifty50_BeES  \\\n",
      "count                           1273        1273.000000   1273.000000   \n",
      "mean   2009-01-20 04:38:16.307934208          14.781854    467.134126   \n",
      "min              2006-06-20 00:00:00           8.320000    254.834100   \n",
      "25%              2007-10-03 00:00:00          12.320000    404.201700   \n",
      "50%              2009-01-20 00:00:00          14.550000    479.625500   \n",
      "75%              2010-05-17 00:00:00          17.560000    543.812500   \n",
      "max              2011-08-18 00:00:00          20.780000    636.378300   \n",
      "std                              NaN           3.260450     95.083375   \n",
      "\n",
      "          fund_ret    bench_ret  \n",
      "count  1273.000000  1273.000000  \n",
      "mean      0.000599     0.000558  \n",
      "min      -0.046300    -0.051059  \n",
      "25%      -0.007166    -0.008280  \n",
      "50%       0.000829     0.000999  \n",
      "75%       0.009174     0.010072  \n",
      "max       0.048735     0.052413  \n",
      "std       0.015551     0.017278  \n"
     ]
    },
    {
     "ename": "KeyError",
     "evalue": "'fund_nav'",
     "output_type": "error",
     "traceback": [
      "\u001b[1;31m---------------------------------------------------------------------------\u001b[0m",
      "\u001b[1;31mKeyError\u001b[0m                                  Traceback (most recent call last)",
      "File \u001b[1;32m~\\anaconda3\\envs\\ml-gpu\\lib\\site-packages\\pandas\\core\\indexes\\base.py:3812\u001b[0m, in \u001b[0;36mIndex.get_loc\u001b[1;34m(self, key)\u001b[0m\n\u001b[0;32m   3811\u001b[0m \u001b[38;5;28;01mtry\u001b[39;00m:\n\u001b[1;32m-> 3812\u001b[0m     \u001b[38;5;28;01mreturn\u001b[39;00m \u001b[38;5;28;43mself\u001b[39;49m\u001b[38;5;241;43m.\u001b[39;49m\u001b[43m_engine\u001b[49m\u001b[38;5;241;43m.\u001b[39;49m\u001b[43mget_loc\u001b[49m\u001b[43m(\u001b[49m\u001b[43mcasted_key\u001b[49m\u001b[43m)\u001b[49m\n\u001b[0;32m   3813\u001b[0m \u001b[38;5;28;01mexcept\u001b[39;00m \u001b[38;5;167;01mKeyError\u001b[39;00m \u001b[38;5;28;01mas\u001b[39;00m err:\n",
      "File \u001b[1;32mindex.pyx:167\u001b[0m, in \u001b[0;36mpandas._libs.index.IndexEngine.get_loc\u001b[1;34m()\u001b[0m\n",
      "File \u001b[1;32mindex.pyx:196\u001b[0m, in \u001b[0;36mpandas._libs.index.IndexEngine.get_loc\u001b[1;34m()\u001b[0m\n",
      "File \u001b[1;32mpandas\\\\_libs\\\\hashtable_class_helper.pxi:7088\u001b[0m, in \u001b[0;36mpandas._libs.hashtable.PyObjectHashTable.get_item\u001b[1;34m()\u001b[0m\n",
      "File \u001b[1;32mpandas\\\\_libs\\\\hashtable_class_helper.pxi:7096\u001b[0m, in \u001b[0;36mpandas._libs.hashtable.PyObjectHashTable.get_item\u001b[1;34m()\u001b[0m\n",
      "\u001b[1;31mKeyError\u001b[0m: 'fund_nav'",
      "\nThe above exception was the direct cause of the following exception:\n",
      "\u001b[1;31mKeyError\u001b[0m                                  Traceback (most recent call last)",
      "Cell \u001b[1;32mIn[21], line 23\u001b[0m\n\u001b[0;32m     21\u001b[0m \u001b[38;5;66;03m# --- Time Series Plots ---\u001b[39;00m\n\u001b[0;32m     22\u001b[0m plt\u001b[38;5;241m.\u001b[39mfigure(figsize\u001b[38;5;241m=\u001b[39m(\u001b[38;5;241m12\u001b[39m,\u001b[38;5;241m5\u001b[39m))\n\u001b[1;32m---> 23\u001b[0m plt\u001b[38;5;241m.\u001b[39mplot(df[\u001b[38;5;124m\"\u001b[39m\u001b[38;5;124mdate\u001b[39m\u001b[38;5;124m\"\u001b[39m], \u001b[43mdf\u001b[49m\u001b[43m[\u001b[49m\u001b[38;5;124;43m\"\u001b[39;49m\u001b[38;5;124;43mfund_nav\u001b[39;49m\u001b[38;5;124;43m\"\u001b[39;49m\u001b[43m]\u001b[49m, label\u001b[38;5;241m=\u001b[39m\u001b[38;5;124m\"\u001b[39m\u001b[38;5;124mICICI Large & Midcap Fund\u001b[39m\u001b[38;5;124m\"\u001b[39m)\n\u001b[0;32m     24\u001b[0m plt\u001b[38;5;241m.\u001b[39mplot(df[\u001b[38;5;124m\"\u001b[39m\u001b[38;5;124mdate\u001b[39m\u001b[38;5;124m\"\u001b[39m], df[\u001b[38;5;124m\"\u001b[39m\u001b[38;5;124mbenchmark_nav\u001b[39m\u001b[38;5;124m\"\u001b[39m], label\u001b[38;5;241m=\u001b[39m\u001b[38;5;124m\"\u001b[39m\u001b[38;5;124mNifty50 Bees (Benchmark)\u001b[39m\u001b[38;5;124m\"\u001b[39m)\n\u001b[0;32m     25\u001b[0m plt\u001b[38;5;241m.\u001b[39mtitle(\u001b[38;5;124m\"\u001b[39m\u001b[38;5;124mFund vs Benchmark NAV Over Time\u001b[39m\u001b[38;5;124m\"\u001b[39m)\n",
      "File \u001b[1;32m~\\anaconda3\\envs\\ml-gpu\\lib\\site-packages\\pandas\\core\\frame.py:4107\u001b[0m, in \u001b[0;36mDataFrame.__getitem__\u001b[1;34m(self, key)\u001b[0m\n\u001b[0;32m   4105\u001b[0m \u001b[38;5;28;01mif\u001b[39;00m \u001b[38;5;28mself\u001b[39m\u001b[38;5;241m.\u001b[39mcolumns\u001b[38;5;241m.\u001b[39mnlevels \u001b[38;5;241m>\u001b[39m \u001b[38;5;241m1\u001b[39m:\n\u001b[0;32m   4106\u001b[0m     \u001b[38;5;28;01mreturn\u001b[39;00m \u001b[38;5;28mself\u001b[39m\u001b[38;5;241m.\u001b[39m_getitem_multilevel(key)\n\u001b[1;32m-> 4107\u001b[0m indexer \u001b[38;5;241m=\u001b[39m \u001b[38;5;28;43mself\u001b[39;49m\u001b[38;5;241;43m.\u001b[39;49m\u001b[43mcolumns\u001b[49m\u001b[38;5;241;43m.\u001b[39;49m\u001b[43mget_loc\u001b[49m\u001b[43m(\u001b[49m\u001b[43mkey\u001b[49m\u001b[43m)\u001b[49m\n\u001b[0;32m   4108\u001b[0m \u001b[38;5;28;01mif\u001b[39;00m is_integer(indexer):\n\u001b[0;32m   4109\u001b[0m     indexer \u001b[38;5;241m=\u001b[39m [indexer]\n",
      "File \u001b[1;32m~\\anaconda3\\envs\\ml-gpu\\lib\\site-packages\\pandas\\core\\indexes\\base.py:3819\u001b[0m, in \u001b[0;36mIndex.get_loc\u001b[1;34m(self, key)\u001b[0m\n\u001b[0;32m   3814\u001b[0m     \u001b[38;5;28;01mif\u001b[39;00m \u001b[38;5;28misinstance\u001b[39m(casted_key, \u001b[38;5;28mslice\u001b[39m) \u001b[38;5;129;01mor\u001b[39;00m (\n\u001b[0;32m   3815\u001b[0m         \u001b[38;5;28misinstance\u001b[39m(casted_key, abc\u001b[38;5;241m.\u001b[39mIterable)\n\u001b[0;32m   3816\u001b[0m         \u001b[38;5;129;01mand\u001b[39;00m \u001b[38;5;28many\u001b[39m(\u001b[38;5;28misinstance\u001b[39m(x, \u001b[38;5;28mslice\u001b[39m) \u001b[38;5;28;01mfor\u001b[39;00m x \u001b[38;5;129;01min\u001b[39;00m casted_key)\n\u001b[0;32m   3817\u001b[0m     ):\n\u001b[0;32m   3818\u001b[0m         \u001b[38;5;28;01mraise\u001b[39;00m InvalidIndexError(key)\n\u001b[1;32m-> 3819\u001b[0m     \u001b[38;5;28;01mraise\u001b[39;00m \u001b[38;5;167;01mKeyError\u001b[39;00m(key) \u001b[38;5;28;01mfrom\u001b[39;00m\u001b[38;5;250m \u001b[39m\u001b[38;5;21;01merr\u001b[39;00m\n\u001b[0;32m   3820\u001b[0m \u001b[38;5;28;01mexcept\u001b[39;00m \u001b[38;5;167;01mTypeError\u001b[39;00m:\n\u001b[0;32m   3821\u001b[0m     \u001b[38;5;66;03m# If we have a listlike key, _check_indexing_error will raise\u001b[39;00m\n\u001b[0;32m   3822\u001b[0m     \u001b[38;5;66;03m#  InvalidIndexError. Otherwise we fall through and re-raise\u001b[39;00m\n\u001b[0;32m   3823\u001b[0m     \u001b[38;5;66;03m#  the TypeError.\u001b[39;00m\n\u001b[0;32m   3824\u001b[0m     \u001b[38;5;28mself\u001b[39m\u001b[38;5;241m.\u001b[39m_check_indexing_error(key)\n",
      "\u001b[1;31mKeyError\u001b[0m: 'fund_nav'"
     ]
    },
    {
     "data": {
      "text/plain": [
       "<Figure size 1200x500 with 0 Axes>"
      ]
     },
     "metadata": {},
     "output_type": "display_data"
    }
   ],
   "source": [
    "\n",
    "\n",
    "import sys\n",
    "from pathlib import Path\n",
    "import pandas as pd\n",
    "import matplotlib.pyplot as plt\n",
    "import seaborn as sns\n",
    "\n",
    "# Ensure project src folder is available\n",
    "PROJECT_ROOT = Path.cwd().parent\n",
    "sys.path.append(str(PROJECT_ROOT))\n",
    "\n",
    "from src.cleaning import clean_nav_data\n",
    "\n",
    "# Load processed data\n",
    "df = pd.read_csv(\"../data/processed/icici_cleaned.csv\", parse_dates=[\"date\"])\n",
    "\n",
    "# --- Basic Info ---\n",
    "print(\"Dataset Shape:\", df.shape)\n",
    "print(\"\\nMissing Values:\\n\", df.isnull().sum())\n",
    "print(\"\\nDescriptive Stats:\\n\", df.describe())\n",
    "\n",
    "# --- Time Series Plots ---\n",
    "plt.figure(figsize=(12,5))\n",
    "plt.plot(df[\"date\"], df[\"fund_nav\"], label=\"ICICI Large & Midcap Fund\")\n",
    "plt.plot(df[\"date\"], df[\"benchmark_nav\"], label=\"Nifty50 Bees (Benchmark)\")\n",
    "plt.title(\"Fund vs Benchmark NAV Over Time\")\n",
    "plt.xlabel(\"Date\")\n",
    "plt.ylabel(\"NAV\")\n",
    "plt.legend()\n",
    "plt.show()\n",
    "\n",
    "# --- Distribution of Returns ---\n",
    "plt.figure(figsize=(12,5))\n",
    "sns.histplot(df[\"fund_ret\"], bins=50, kde=True, color=\"blue\", label=\"Fund Returns\")\n",
    "sns.histplot(df[\"benchmark_ret\"], bins=50, kde=True, color=\"orange\", label=\"Benchmark Returns\")\n",
    "plt.title(\"Distribution of Daily Returns\")\n",
    "plt.xlabel(\"Daily Return\")\n",
    "plt.legend()\n",
    "plt.show()\n",
    "\n",
    "# --- Boxplots for Outlier Check ---\n",
    "plt.figure(figsize=(10,5))\n",
    "sns.boxplot(data=df[[\"fund_ret\", \"benchmark_ret\"]])\n",
    "plt.title(\"Boxplot of Daily Returns (Fund vs Benchmark)\")\n",
    "plt.show()\n",
    "\n",
    "# --- Correlation Matrix ---\n",
    "corr = df[[\"fund_ret\", \"benchmark_ret\"]].corr()\n",
    "\n",
    "plt.figure(figsize=(6,4))\n",
    "sns.heatmap(corr, annot=True, cmap=\"coolwarm\", fmt=\".2f\")\n",
    "plt.title(\"Correlation Matrix\")\n",
    "plt.show()\n",
    "\n",
    "# --- Rolling Statistics (Volatility, Trends) ---\n",
    "df[\"fund_ret_rolling\"] = df[\"fund_ret\"].rolling(window=30).mean()\n",
    "df[\"fund_vol_rolling\"] = df[\"fund_ret\"].rolling(window=30).std()\n",
    "\n",
    "plt.figure(figsize=(12,5))\n",
    "plt.plot(df[\"date\"], df[\"fund_ret_rolling\"], label=\"30D Rolling Mean Return\")\n",
    "plt.plot(df[\"date\"], df[\"fund_vol_rolling\"], label=\"30D Rolling Volatility\")\n",
    "plt.title(\"Rolling Statistics of Fund Returns\")\n",
    "plt.legend()\n",
    "plt.show()\n"
   ]
  },
  {
   "cell_type": "markdown",
   "id": "52720db9-1647-4037-9291-47a638a9bbfb",
   "metadata": {},
   "source": [
    "# Stage 09: Feature Engineering"
   ]
  },
  {
   "cell_type": "code",
   "execution_count": 25,
   "id": "6a520921-c00c-47db-bcee-c501e2536006",
   "metadata": {},
   "outputs": [
    {
     "ename": "KeyError",
     "evalue": "'benchmark_ret'",
     "output_type": "error",
     "traceback": [
      "\u001b[1;31m---------------------------------------------------------------------------\u001b[0m",
      "\u001b[1;31mKeyError\u001b[0m                                  Traceback (most recent call last)",
      "File \u001b[1;32m~\\anaconda3\\envs\\ml-gpu\\lib\\site-packages\\pandas\\core\\indexes\\base.py:3812\u001b[0m, in \u001b[0;36mIndex.get_loc\u001b[1;34m(self, key)\u001b[0m\n\u001b[0;32m   3811\u001b[0m \u001b[38;5;28;01mtry\u001b[39;00m:\n\u001b[1;32m-> 3812\u001b[0m     \u001b[38;5;28;01mreturn\u001b[39;00m \u001b[38;5;28;43mself\u001b[39;49m\u001b[38;5;241;43m.\u001b[39;49m\u001b[43m_engine\u001b[49m\u001b[38;5;241;43m.\u001b[39;49m\u001b[43mget_loc\u001b[49m\u001b[43m(\u001b[49m\u001b[43mcasted_key\u001b[49m\u001b[43m)\u001b[49m\n\u001b[0;32m   3813\u001b[0m \u001b[38;5;28;01mexcept\u001b[39;00m \u001b[38;5;167;01mKeyError\u001b[39;00m \u001b[38;5;28;01mas\u001b[39;00m err:\n",
      "File \u001b[1;32mindex.pyx:167\u001b[0m, in \u001b[0;36mpandas._libs.index.IndexEngine.get_loc\u001b[1;34m()\u001b[0m\n",
      "File \u001b[1;32mindex.pyx:196\u001b[0m, in \u001b[0;36mpandas._libs.index.IndexEngine.get_loc\u001b[1;34m()\u001b[0m\n",
      "File \u001b[1;32mpandas\\\\_libs\\\\hashtable_class_helper.pxi:7088\u001b[0m, in \u001b[0;36mpandas._libs.hashtable.PyObjectHashTable.get_item\u001b[1;34m()\u001b[0m\n",
      "File \u001b[1;32mpandas\\\\_libs\\\\hashtable_class_helper.pxi:7096\u001b[0m, in \u001b[0;36mpandas._libs.hashtable.PyObjectHashTable.get_item\u001b[1;34m()\u001b[0m\n",
      "\u001b[1;31mKeyError\u001b[0m: 'benchmark_ret'",
      "\nThe above exception was the direct cause of the following exception:\n",
      "\u001b[1;31mKeyError\u001b[0m                                  Traceback (most recent call last)",
      "Cell \u001b[1;32mIn[25], line 16\u001b[0m\n\u001b[0;32m     13\u001b[0m df \u001b[38;5;241m=\u001b[39m pd\u001b[38;5;241m.\u001b[39mread_csv(\u001b[38;5;124m\"\u001b[39m\u001b[38;5;124m../data/processed/icici_cleaned.csv\u001b[39m\u001b[38;5;124m\"\u001b[39m, parse_dates\u001b[38;5;241m=\u001b[39m[\u001b[38;5;124m\"\u001b[39m\u001b[38;5;124mdate\u001b[39m\u001b[38;5;124m\"\u001b[39m])\n\u001b[0;32m     15\u001b[0m \u001b[38;5;66;03m# Apply feature engineering\u001b[39;00m\n\u001b[1;32m---> 16\u001b[0m df_feat \u001b[38;5;241m=\u001b[39m \u001b[43madd_features\u001b[49m\u001b[43m(\u001b[49m\u001b[43mdf\u001b[49m\u001b[43m)\u001b[49m\n\u001b[0;32m     18\u001b[0m \u001b[38;5;66;03m# Save engineered dataset\u001b[39;00m\n\u001b[0;32m     19\u001b[0m df_feat\u001b[38;5;241m.\u001b[39mto_csv(\u001b[38;5;124m\"\u001b[39m\u001b[38;5;124m../data/processed/icici_features.csv\u001b[39m\u001b[38;5;124m\"\u001b[39m, index\u001b[38;5;241m=\u001b[39m\u001b[38;5;28;01mFalse\u001b[39;00m)\n",
      "File \u001b[1;32m~\\Desktop\\Boorcamp_Shubham_Shende\\projects\\src\\features.py:27\u001b[0m, in \u001b[0;36madd_features\u001b[1;34m(df)\u001b[0m\n\u001b[0;32m     24\u001b[0m df[\u001b[38;5;124m\"\u001b[39m\u001b[38;5;124mfund_vol20\u001b[39m\u001b[38;5;124m\"\u001b[39m] \u001b[38;5;241m=\u001b[39m df[\u001b[38;5;124m\"\u001b[39m\u001b[38;5;124mfund_ret\u001b[39m\u001b[38;5;124m\"\u001b[39m]\u001b[38;5;241m.\u001b[39mrolling(window\u001b[38;5;241m=\u001b[39m\u001b[38;5;241m20\u001b[39m)\u001b[38;5;241m.\u001b[39mstd()\n\u001b[0;32m     26\u001b[0m \u001b[38;5;66;03m# Benchmark rolling averages\u001b[39;00m\n\u001b[1;32m---> 27\u001b[0m df[\u001b[38;5;124m\"\u001b[39m\u001b[38;5;124mbenchmark_ret_ma20\u001b[39m\u001b[38;5;124m\"\u001b[39m] \u001b[38;5;241m=\u001b[39m \u001b[43mdf\u001b[49m\u001b[43m[\u001b[49m\u001b[38;5;124;43m\"\u001b[39;49m\u001b[38;5;124;43mbenchmark_ret\u001b[39;49m\u001b[38;5;124;43m\"\u001b[39;49m\u001b[43m]\u001b[49m\u001b[38;5;241m.\u001b[39mrolling(window\u001b[38;5;241m=\u001b[39m\u001b[38;5;241m20\u001b[39m)\u001b[38;5;241m.\u001b[39mmean()\n\u001b[0;32m     29\u001b[0m \u001b[38;5;66;03m# Excess return (fund - benchmark)\u001b[39;00m\n\u001b[0;32m     30\u001b[0m df[\u001b[38;5;124m\"\u001b[39m\u001b[38;5;124mexcess_ret\u001b[39m\u001b[38;5;124m\"\u001b[39m] \u001b[38;5;241m=\u001b[39m df[\u001b[38;5;124m\"\u001b[39m\u001b[38;5;124mfund_ret\u001b[39m\u001b[38;5;124m\"\u001b[39m] \u001b[38;5;241m-\u001b[39m df[\u001b[38;5;124m\"\u001b[39m\u001b[38;5;124mbenchmark_ret\u001b[39m\u001b[38;5;124m\"\u001b[39m]\n",
      "File \u001b[1;32m~\\anaconda3\\envs\\ml-gpu\\lib\\site-packages\\pandas\\core\\frame.py:4107\u001b[0m, in \u001b[0;36mDataFrame.__getitem__\u001b[1;34m(self, key)\u001b[0m\n\u001b[0;32m   4105\u001b[0m \u001b[38;5;28;01mif\u001b[39;00m \u001b[38;5;28mself\u001b[39m\u001b[38;5;241m.\u001b[39mcolumns\u001b[38;5;241m.\u001b[39mnlevels \u001b[38;5;241m>\u001b[39m \u001b[38;5;241m1\u001b[39m:\n\u001b[0;32m   4106\u001b[0m     \u001b[38;5;28;01mreturn\u001b[39;00m \u001b[38;5;28mself\u001b[39m\u001b[38;5;241m.\u001b[39m_getitem_multilevel(key)\n\u001b[1;32m-> 4107\u001b[0m indexer \u001b[38;5;241m=\u001b[39m \u001b[38;5;28;43mself\u001b[39;49m\u001b[38;5;241;43m.\u001b[39;49m\u001b[43mcolumns\u001b[49m\u001b[38;5;241;43m.\u001b[39;49m\u001b[43mget_loc\u001b[49m\u001b[43m(\u001b[49m\u001b[43mkey\u001b[49m\u001b[43m)\u001b[49m\n\u001b[0;32m   4108\u001b[0m \u001b[38;5;28;01mif\u001b[39;00m is_integer(indexer):\n\u001b[0;32m   4109\u001b[0m     indexer \u001b[38;5;241m=\u001b[39m [indexer]\n",
      "File \u001b[1;32m~\\anaconda3\\envs\\ml-gpu\\lib\\site-packages\\pandas\\core\\indexes\\base.py:3819\u001b[0m, in \u001b[0;36mIndex.get_loc\u001b[1;34m(self, key)\u001b[0m\n\u001b[0;32m   3814\u001b[0m     \u001b[38;5;28;01mif\u001b[39;00m \u001b[38;5;28misinstance\u001b[39m(casted_key, \u001b[38;5;28mslice\u001b[39m) \u001b[38;5;129;01mor\u001b[39;00m (\n\u001b[0;32m   3815\u001b[0m         \u001b[38;5;28misinstance\u001b[39m(casted_key, abc\u001b[38;5;241m.\u001b[39mIterable)\n\u001b[0;32m   3816\u001b[0m         \u001b[38;5;129;01mand\u001b[39;00m \u001b[38;5;28many\u001b[39m(\u001b[38;5;28misinstance\u001b[39m(x, \u001b[38;5;28mslice\u001b[39m) \u001b[38;5;28;01mfor\u001b[39;00m x \u001b[38;5;129;01min\u001b[39;00m casted_key)\n\u001b[0;32m   3817\u001b[0m     ):\n\u001b[0;32m   3818\u001b[0m         \u001b[38;5;28;01mraise\u001b[39;00m InvalidIndexError(key)\n\u001b[1;32m-> 3819\u001b[0m     \u001b[38;5;28;01mraise\u001b[39;00m \u001b[38;5;167;01mKeyError\u001b[39;00m(key) \u001b[38;5;28;01mfrom\u001b[39;00m\u001b[38;5;250m \u001b[39m\u001b[38;5;21;01merr\u001b[39;00m\n\u001b[0;32m   3820\u001b[0m \u001b[38;5;28;01mexcept\u001b[39;00m \u001b[38;5;167;01mTypeError\u001b[39;00m:\n\u001b[0;32m   3821\u001b[0m     \u001b[38;5;66;03m# If we have a listlike key, _check_indexing_error will raise\u001b[39;00m\n\u001b[0;32m   3822\u001b[0m     \u001b[38;5;66;03m#  InvalidIndexError. Otherwise we fall through and re-raise\u001b[39;00m\n\u001b[0;32m   3823\u001b[0m     \u001b[38;5;66;03m#  the TypeError.\u001b[39;00m\n\u001b[0;32m   3824\u001b[0m     \u001b[38;5;28mself\u001b[39m\u001b[38;5;241m.\u001b[39m_check_indexing_error(key)\n",
      "\u001b[1;31mKeyError\u001b[0m: 'benchmark_ret'"
     ]
    }
   ],
   "source": [
    "import sys\n",
    "from pathlib import Path\n",
    "import pandas as pd\n",
    "import matplotlib.pyplot as plt\n",
    "\n",
    "# Path setup\n",
    "PROJECT_ROOT = Path.cwd().parent\n",
    "sys.path.append(str(PROJECT_ROOT))\n",
    "\n",
    "from src.features import add_features\n",
    "\n",
    "# Load processed data\n",
    "df = pd.read_csv(\"../data/processed/icici_cleaned.csv\", parse_dates=[\"date\"])\n",
    "\n",
    "# Apply feature engineering\n",
    "df_feat = add_features(df)\n",
    "\n",
    "# Save engineered dataset\n",
    "df_feat.to_csv(\"../data/processed/icici_features.csv\", index=False)\n",
    "\n",
    "# --- Quick Checks ---\n",
    "print(df_feat.head())\n",
    "\n",
    "# Plot some engineered features\n",
    "plt.figure(figsize=(12,5))\n",
    "plt.plot(df_feat[\"date\"], df_feat[\"excess_ret\"], label=\"Excess Return (Fund - Benchmark)\")\n",
    "plt.axhline(0, color=\"black\", linestyle=\"--\")\n",
    "plt.title(\"Excess Daily Returns\")\n",
    "plt.legend()\n",
    "plt.show()\n",
    "\n",
    "plt.figure(figsize=(12,5))\n",
    "plt.plot(df_feat[\"date\"], df_feat[\"rolling_corr\"], label=\"60D Rolling Correlation\")\n",
    "plt.title(\"Fund vs Benchmark Rolling Correlation\")\n",
    "plt.legend()\n",
    "plt.show()\n"
   ]
  },
  {
   "cell_type": "code",
   "execution_count": null,
   "id": "271b1f8c-57d7-45ff-abca-bd445627e4cc",
   "metadata": {},
   "outputs": [],
   "source": []
  },
  {
   "cell_type": "code",
   "execution_count": null,
   "id": "24b6cb17-41f2-47df-9a2e-010ead7c5d6f",
   "metadata": {},
   "outputs": [],
   "source": []
  },
  {
   "cell_type": "code",
   "execution_count": null,
   "id": "9a5ae554-262c-4e5d-8248-7ee87311650f",
   "metadata": {},
   "outputs": [],
   "source": []
  }
 ],
 "metadata": {
  "kernelspec": {
   "display_name": "Python (ml-gpu)",
   "language": "python",
   "name": "ml-gpu"
  },
  "language_info": {
   "codemirror_mode": {
    "name": "ipython",
    "version": 3
   },
   "file_extension": ".py",
   "mimetype": "text/x-python",
   "name": "python",
   "nbconvert_exporter": "python",
   "pygments_lexer": "ipython3",
   "version": "3.10.18"
  }
 },
 "nbformat": 4,
 "nbformat_minor": 5
}
